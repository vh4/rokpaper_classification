{
 "cells": [
  {
   "cell_type": "code",
   "execution_count": 3,
   "id": "4c833fe4",
   "metadata": {},
   "outputs": [],
   "source": [
    "import pandas as pd\n",
    "import os\n",
    "from skimage.transform import resize\n",
    "from skimage.io import imread\n",
    "import numpy as np\n",
    "import matplotlib.pyplot as plt"
   ]
  },
  {
   "cell_type": "code",
   "execution_count": 7,
   "id": "1b57f68c-98f5-4919-85bc-42ac4feea596",
   "metadata": {},
   "outputs": [],
   "source": [
    "label = [\"rock\", \"paper\", \"scissors\"]"
   ]
  },
  {
   "cell_type": "code",
   "execution_count": 8,
   "id": "70ce430b-793c-467e-9b40-4ae0a94ea70a",
   "metadata": {},
   "outputs": [],
   "source": [
    "input_array  = []\n",
    "output_array = []"
   ]
  },
  {
   "cell_type": "code",
   "execution_count": 5,
   "id": "6ef80050-c7e2-4299-9d31-c776c33eaad7",
   "metadata": {},
   "outputs": [
    {
     "name": "stdout",
     "output_type": "stream",
     "text": [
      "train/rock\n",
      "load label:rock berhasil\n",
      "train/paper\n",
      "load label:paper berhasil\n",
      "train/scissors\n",
      "load label:scissors berhasil\n"
     ]
    }
   ],
   "source": [
    "datadir = \"train/\"\n",
    "\n",
    "for i in label:\n",
    "    path = os.path.join(datadir, i)\n",
    "    print(path)\n",
    "    for img in os.listdir(path):\n",
    "        img_array = imread(os.path.join(path,img))\n",
    "        img_resized=resize(img_array,(150,150,3))\n",
    "        \n",
    "        input_array.append(img_resized.flatten()) #menampung gambar dalam array yang sesuai dengan label\n",
    "        output_array.append(label.index(i)) #melabeli setiap gambar berdasarkan direktori.\n",
    "    print(f'load label:{i} berhasil')"
   ]
  },
  {
   "cell_type": "code",
   "execution_count": 6,
   "id": "86341e90-95de-4985-a98a-b653240df3e6",
   "metadata": {},
   "outputs": [
    {
     "data": {
      "text/html": [
       "<div>\n",
       "<style scoped>\n",
       "    .dataframe tbody tr th:only-of-type {\n",
       "        vertical-align: middle;\n",
       "    }\n",
       "\n",
       "    .dataframe tbody tr th {\n",
       "        vertical-align: top;\n",
       "    }\n",
       "\n",
       "    .dataframe thead th {\n",
       "        text-align: right;\n",
       "    }\n",
       "</style>\n",
       "<table border=\"1\" class=\"dataframe\">\n",
       "  <thead>\n",
       "    <tr style=\"text-align: right;\">\n",
       "      <th></th>\n",
       "      <th>0</th>\n",
       "      <th>1</th>\n",
       "      <th>2</th>\n",
       "      <th>3</th>\n",
       "      <th>4</th>\n",
       "      <th>5</th>\n",
       "      <th>6</th>\n",
       "      <th>7</th>\n",
       "      <th>8</th>\n",
       "      <th>9</th>\n",
       "      <th>...</th>\n",
       "      <th>67491</th>\n",
       "      <th>67492</th>\n",
       "      <th>67493</th>\n",
       "      <th>67494</th>\n",
       "      <th>67495</th>\n",
       "      <th>67496</th>\n",
       "      <th>67497</th>\n",
       "      <th>67498</th>\n",
       "      <th>67499</th>\n",
       "      <th>label</th>\n",
       "    </tr>\n",
       "  </thead>\n",
       "  <tbody>\n",
       "    <tr>\n",
       "      <th>0</th>\n",
       "      <td>0.127778</td>\n",
       "      <td>0.483007</td>\n",
       "      <td>0.187582</td>\n",
       "      <td>0.120261</td>\n",
       "      <td>0.477451</td>\n",
       "      <td>0.180392</td>\n",
       "      <td>0.124183</td>\n",
       "      <td>0.479412</td>\n",
       "      <td>0.187582</td>\n",
       "      <td>0.131373</td>\n",
       "      <td>...</td>\n",
       "      <td>0.160458</td>\n",
       "      <td>0.471895</td>\n",
       "      <td>0.154248</td>\n",
       "      <td>0.154902</td>\n",
       "      <td>0.464706</td>\n",
       "      <td>0.147059</td>\n",
       "      <td>0.152941</td>\n",
       "      <td>0.462745</td>\n",
       "      <td>0.141830</td>\n",
       "      <td>0</td>\n",
       "    </tr>\n",
       "    <tr>\n",
       "      <th>1</th>\n",
       "      <td>0.135294</td>\n",
       "      <td>0.462745</td>\n",
       "      <td>0.169608</td>\n",
       "      <td>0.126797</td>\n",
       "      <td>0.454575</td>\n",
       "      <td>0.162745</td>\n",
       "      <td>0.135294</td>\n",
       "      <td>0.461438</td>\n",
       "      <td>0.162745</td>\n",
       "      <td>0.139542</td>\n",
       "      <td>...</td>\n",
       "      <td>0.133333</td>\n",
       "      <td>0.488235</td>\n",
       "      <td>0.166667</td>\n",
       "      <td>0.133987</td>\n",
       "      <td>0.483987</td>\n",
       "      <td>0.160784</td>\n",
       "      <td>0.135621</td>\n",
       "      <td>0.483987</td>\n",
       "      <td>0.163399</td>\n",
       "      <td>0</td>\n",
       "    </tr>\n",
       "    <tr>\n",
       "      <th>2</th>\n",
       "      <td>0.158497</td>\n",
       "      <td>0.521569</td>\n",
       "      <td>0.203922</td>\n",
       "      <td>0.157190</td>\n",
       "      <td>0.521569</td>\n",
       "      <td>0.203922</td>\n",
       "      <td>0.153595</td>\n",
       "      <td>0.521895</td>\n",
       "      <td>0.203922</td>\n",
       "      <td>0.159150</td>\n",
       "      <td>...</td>\n",
       "      <td>0.168954</td>\n",
       "      <td>0.542157</td>\n",
       "      <td>0.214706</td>\n",
       "      <td>0.174510</td>\n",
       "      <td>0.539542</td>\n",
       "      <td>0.221895</td>\n",
       "      <td>0.180392</td>\n",
       "      <td>0.548693</td>\n",
       "      <td>0.229085</td>\n",
       "      <td>0</td>\n",
       "    </tr>\n",
       "    <tr>\n",
       "      <th>3</th>\n",
       "      <td>0.136601</td>\n",
       "      <td>0.456209</td>\n",
       "      <td>0.149020</td>\n",
       "      <td>0.131699</td>\n",
       "      <td>0.456209</td>\n",
       "      <td>0.148366</td>\n",
       "      <td>0.137908</td>\n",
       "      <td>0.462092</td>\n",
       "      <td>0.152614</td>\n",
       "      <td>0.141830</td>\n",
       "      <td>...</td>\n",
       "      <td>0.151961</td>\n",
       "      <td>0.485948</td>\n",
       "      <td>0.165686</td>\n",
       "      <td>0.149020</td>\n",
       "      <td>0.480065</td>\n",
       "      <td>0.154902</td>\n",
       "      <td>0.162092</td>\n",
       "      <td>0.482353</td>\n",
       "      <td>0.169935</td>\n",
       "      <td>0</td>\n",
       "    </tr>\n",
       "    <tr>\n",
       "      <th>4</th>\n",
       "      <td>0.194118</td>\n",
       "      <td>0.566340</td>\n",
       "      <td>0.248693</td>\n",
       "      <td>0.193137</td>\n",
       "      <td>0.571895</td>\n",
       "      <td>0.248693</td>\n",
       "      <td>0.186601</td>\n",
       "      <td>0.570915</td>\n",
       "      <td>0.245425</td>\n",
       "      <td>0.192157</td>\n",
       "      <td>...</td>\n",
       "      <td>0.188235</td>\n",
       "      <td>0.598039</td>\n",
       "      <td>0.264706</td>\n",
       "      <td>0.196078</td>\n",
       "      <td>0.596078</td>\n",
       "      <td>0.266667</td>\n",
       "      <td>0.188235</td>\n",
       "      <td>0.598039</td>\n",
       "      <td>0.266667</td>\n",
       "      <td>0</td>\n",
       "    </tr>\n",
       "  </tbody>\n",
       "</table>\n",
       "<p>5 rows × 67501 columns</p>\n",
       "</div>"
      ],
      "text/plain": [
       "          0         1         2         3         4         5         6  \\\n",
       "0  0.127778  0.483007  0.187582  0.120261  0.477451  0.180392  0.124183   \n",
       "1  0.135294  0.462745  0.169608  0.126797  0.454575  0.162745  0.135294   \n",
       "2  0.158497  0.521569  0.203922  0.157190  0.521569  0.203922  0.153595   \n",
       "3  0.136601  0.456209  0.149020  0.131699  0.456209  0.148366  0.137908   \n",
       "4  0.194118  0.566340  0.248693  0.193137  0.571895  0.248693  0.186601   \n",
       "\n",
       "          7         8         9  ...     67491     67492     67493     67494  \\\n",
       "0  0.479412  0.187582  0.131373  ...  0.160458  0.471895  0.154248  0.154902   \n",
       "1  0.461438  0.162745  0.139542  ...  0.133333  0.488235  0.166667  0.133987   \n",
       "2  0.521895  0.203922  0.159150  ...  0.168954  0.542157  0.214706  0.174510   \n",
       "3  0.462092  0.152614  0.141830  ...  0.151961  0.485948  0.165686  0.149020   \n",
       "4  0.570915  0.245425  0.192157  ...  0.188235  0.598039  0.264706  0.196078   \n",
       "\n",
       "      67495     67496     67497     67498     67499  label  \n",
       "0  0.464706  0.147059  0.152941  0.462745  0.141830      0  \n",
       "1  0.483987  0.160784  0.135621  0.483987  0.163399      0  \n",
       "2  0.539542  0.221895  0.180392  0.548693  0.229085      0  \n",
       "3  0.480065  0.154902  0.162092  0.482353  0.169935      0  \n",
       "4  0.596078  0.266667  0.188235  0.598039  0.266667      0  \n",
       "\n",
       "[5 rows x 67501 columns]"
      ]
     },
     "execution_count": 6,
     "metadata": {},
     "output_type": "execute_result"
    }
   ],
   "source": [
    "np_input_array = np.array(input_array)\n",
    "np_output_array = np.array(output_array)\n",
    "\n",
    "df=pd.DataFrame(np_input_array) #dataframe\n",
    "df['label'] = np_output_array\n",
    "\n",
    "df.head(5)"
   ]
  },
  {
   "cell_type": "code",
   "execution_count": 7,
   "id": "dcba009c-e3e5-467e-b8f0-e7ec51cf7f65",
   "metadata": {},
   "outputs": [
    {
     "data": {
      "text/plain": [
       "(2188, 67500)"
      ]
     },
     "execution_count": 7,
     "metadata": {},
     "output_type": "execute_result"
    }
   ],
   "source": [
    "x=df.iloc[:,:-1] #input data \n",
    "x.shape"
   ]
  },
  {
   "cell_type": "code",
   "execution_count": 8,
   "id": "1a8c0d6d-5e39-4d06-9d22-2ea826178d64",
   "metadata": {},
   "outputs": [
    {
     "data": {
      "text/plain": [
       "(2188,)"
      ]
     },
     "execution_count": 8,
     "metadata": {},
     "output_type": "execute_result"
    }
   ],
   "source": [
    "y=df.iloc[:,-1] #output data\n",
    "y.shape"
   ]
  },
  {
   "cell_type": "code",
   "execution_count": 9,
   "id": "f7ab7df4-8741-49c4-b118-43be9ddeaac8",
   "metadata": {},
   "outputs": [],
   "source": [
    "from sklearn import svm\n",
    "from sklearn.model_selection import GridSearchCV\n",
    "\n",
    "param_grid={\n",
    "    'C':[10,100],\n",
    "    'gamma':[0.1,1],\n",
    "    'kernel':['poly']}\n",
    "\n",
    "svc=svm.SVC(probability=True)\n",
    "model=GridSearchCV(svc,param_grid, verbose=4, n_jobs=-1, cv=2)"
   ]
  },
  {
   "cell_type": "code",
   "execution_count": 10,
   "id": "709c115a-3f99-493c-8f1a-14b5152beca9",
   "metadata": {},
   "outputs": [
    {
     "name": "stdout",
     "output_type": "stream",
     "text": [
      "Fitting 2 folds for each of 4 candidates, totalling 8 fits\n",
      "Model sedang belajar..........\n"
     ]
    }
   ],
   "source": [
    "from sklearn.model_selection import train_test_split\n",
    "\n",
    "x_train,x_test,y_train,y_test=train_test_split(x, y,test_size=0.4,random_state=42, stratify=y)\n",
    "\n",
    "#melatih model untuk klasifikasi gambar\n",
    "model.fit(x_train,y_train)\n",
    "\n",
    "print('Model sedang belajar..........')"
   ]
  },
  {
   "cell_type": "code",
   "execution_count": 4,
   "id": "66f9df4f-7c95-47a9-b478-fb2e2188b8ad",
   "metadata": {},
   "outputs": [
    {
     "name": "stdout",
     "output_type": "stream",
     "text": [
      "selesai\n"
     ]
    }
   ],
   "source": [
    "print(\"selesai\")"
   ]
  },
  {
   "cell_type": "code",
   "execution_count": 12,
   "id": "2f1727c8-f12e-49ae-b707-2c8363291c6c",
   "metadata": {},
   "outputs": [
    {
     "data": {
      "text/plain": [
       "{'C': 10, 'gamma': 0.1, 'kernel': 'poly'}"
      ]
     },
     "execution_count": 12,
     "metadata": {},
     "output_type": "execute_result"
    }
   ],
   "source": [
    "model.best_params_"
   ]
  },
  {
   "cell_type": "code",
   "execution_count": 23,
   "id": "8b824a97-f193-41a5-9bc1-a11e898be609",
   "metadata": {},
   "outputs": [
    {
     "data": {
      "text/plain": [
       "['svm.pkl']"
      ]
     },
     "execution_count": 23,
     "metadata": {},
     "output_type": "execute_result"
    }
   ],
   "source": [
    "import joblib\n",
    "fl = 'model/'\n",
    "joblib.dump(fl, 'svm.pkl')"
   ]
  },
  {
   "cell_type": "code",
   "execution_count": 16,
   "id": "49537704-8a93-4fc6-b75b-2d129dd38685",
   "metadata": {},
   "outputs": [],
   "source": [
    "y_pred=model.predict(x_test)"
   ]
  },
  {
   "cell_type": "code",
   "execution_count": 17,
   "id": "220af697-1305-4ecc-a326-8705ada11304",
   "metadata": {},
   "outputs": [
    {
     "name": "stdout",
     "output_type": "stream",
     "text": [
      "Akurasi model: 94.63470319634703%\n"
     ]
    }
   ],
   "source": [
    "from sklearn.metrics import accuracy_score\n",
    "print(f\"Akurasi model: {accuracy_score(y_pred,y_test)*100}%\")"
   ]
  },
  {
   "cell_type": "code",
   "execution_count": 18,
   "id": "3693941a-4ced-4d33-99c5-66308656fc2a",
   "metadata": {},
   "outputs": [
    {
     "name": "stdin",
     "output_type": "stream",
     "text": [
      "Gambar URL : https://upload.wikimedia.org/wikipedia/commons/thumb/5/5f/Rock-paper-scissors_(scissors).png/600px-Rock-paper-scissors_(scissors).png\n"
     ]
    },
    {
     "data": {
      "image/png": "[encoded data removed]",
      "text/plain": [
       "<Figure size 432x288 with 1 Axes>"
      ]
     },
     "metadata": {
      "needs_background": "light"
     },
     "output_type": "display_data"
    },
    {
     "name": "stdout",
     "output_type": "stream",
     "text": [
      "rock = 3.466061034508659e-09%\n",
      "paper = 2.4615570116859124e-09%\n",
      "scissors = 99.99999999407238%\n",
      "Hasil prediksi : scissors\n"
     ]
    }
   ],
   "source": [
    "url=input('Gambar URL :')\n",
    "img=imread(url)\n",
    "plt.imshow(img)\n",
    "plt.show()\n",
    "img_resize=resize(img,(150,150,3))\n",
    "l=[img_resize.flatten()]\n",
    "probability=model.predict_proba(l)\n",
    "\n",
    "for ind,val in enumerate(label):\n",
    "    print(f'{val} = {probability[0][ind]*100}%')\n",
    "print(\"Hasil prediksi : \"+ label[model.predict(l)[0]])"
   ]
  },
  {
   "cell_type": "code",
   "execution_count": 10,
   "id": "06392f1a-1da3-426d-9719-2d5c4253098c",
   "metadata": {},
   "outputs": [
    {
     "data": {
      "text/plain": [
       "'model/'"
      ]
     },
     "execution_count": 10,
     "metadata": {},
     "output_type": "execute_result"
    }
   ],
   "source": [
    "import joblib\n",
    "\n",
    "model_load = joblib.load(\"svm.pkl\")\n",
    "model_load."
   ]
  },
  {
   "cell_type": "code",
   "execution_count": 9,
   "id": "15d3359f-2a67-455d-b7d7-540468fb6a04",
   "metadata": {},
   "outputs": [
    {
     "name": "stdin",
     "output_type": "stream",
     "text": [
      "Gambar URL : https://upload.wikimedia.org/wikipedia/commons/thumb/5/5f/Rock-paper-scissors_(scissors).png/600px-Rock-paper-scissors_(scissors).png\n"
     ]
    },
    {
     "data": {
      "image/png": "[encoded data removed]",
      "text/plain": [
       "<Figure size 432x288 with 1 Axes>"
      ]
     },
     "metadata": {
      "needs_background": "light"
     },
     "output_type": "display_data"
    },
    {
     "ename": "AttributeError",
     "evalue": "'str' object has no attribute 'predict'",
     "output_type": "error",
     "traceback": [
      "\u001b[1;31m---------------------------------------------------------------------------\u001b[0m",
      "\u001b[1;31mAttributeError\u001b[0m                            Traceback (most recent call last)",
      "\u001b[1;32m~\\AppData\\Local\\Temp/ipykernel_18624/3551595716.py\u001b[0m in \u001b[0;36m<module>\u001b[1;34m\u001b[0m\n\u001b[0;32m      6\u001b[0m \u001b[0ml\u001b[0m\u001b[1;33m=\u001b[0m\u001b[1;33m[\u001b[0m\u001b[0mimg_resize\u001b[0m\u001b[1;33m.\u001b[0m\u001b[0mflatten\u001b[0m\u001b[1;33m(\u001b[0m\u001b[1;33m)\u001b[0m\u001b[1;33m]\u001b[0m\u001b[1;33m\u001b[0m\u001b[1;33m\u001b[0m\u001b[0m\n\u001b[0;32m      7\u001b[0m \u001b[1;33m\u001b[0m\u001b[0m\n\u001b[1;32m----> 8\u001b[1;33m \u001b[0mprint\u001b[0m\u001b[1;33m(\u001b[0m\u001b[1;34m\"Hasil prediksi : \"\u001b[0m\u001b[1;33m+\u001b[0m \u001b[0mlabel\u001b[0m\u001b[1;33m[\u001b[0m\u001b[0mmodel_load\u001b[0m\u001b[1;33m.\u001b[0m\u001b[0mpredict\u001b[0m\u001b[1;33m(\u001b[0m\u001b[0ml\u001b[0m\u001b[1;33m)\u001b[0m\u001b[1;33m[\u001b[0m\u001b[1;36m0\u001b[0m\u001b[1;33m]\u001b[0m\u001b[1;33m]\u001b[0m\u001b[1;33m)\u001b[0m\u001b[1;33m\u001b[0m\u001b[1;33m\u001b[0m\u001b[0m\n\u001b[0m",
      "\u001b[1;31mAttributeError\u001b[0m: 'str' object has no attribute 'predict'"
     ]
    }
   ],
   "source": [
    "url=input('Gambar URL :')\n",
    "img=imread(url)\n",
    "plt.imshow(img)\n",
    "plt.show()\n",
    "img_resize=resize(img,(150,150,3))\n",
    "l=[img_resize.flatten()]\n",
    "\n",
    "print(\"Hasil prediksi : \"+ label[model_load.predict(l)[0]])"
   ]
  },
  {
   "cell_type": "code",
   "execution_count": 18,
   "id": "1784c6b6-5bdd-46d2-bab2-a023025c57ed",
   "metadata": {},
   "outputs": [],
   "source": [
    "import cv2"
   ]
  },
  {
   "cell_type": "code",
   "execution_count": 19,
   "id": "2bba61ba-d77f-4d2b-8536-825f4a20f356",
   "metadata": {},
   "outputs": [
    {
     "ename": "AttributeError",
     "evalue": "'str' object has no attribute 'predict'",
     "output_type": "error",
     "traceback": [
      "\u001b[1;31m---------------------------------------------------------------------------\u001b[0m",
      "\u001b[1;31mAttributeError\u001b[0m                            Traceback (most recent call last)",
      "\u001b[1;32m~\\AppData\\Local\\Temp/ipykernel_13732/2683270024.py\u001b[0m in \u001b[0;36m<module>\u001b[1;34m\u001b[0m\n\u001b[0;32m     13\u001b[0m \u001b[1;33m\u001b[0m\u001b[0m\n\u001b[0;32m     14\u001b[0m     cv2.putText(frame, \n\u001b[1;32m---> 15\u001b[1;33m                 \u001b[0mstr\u001b[0m\u001b[1;33m(\u001b[0m\u001b[0mmodel_load\u001b[0m\u001b[1;33m.\u001b[0m\u001b[0mpredict\u001b[0m\u001b[1;33m(\u001b[0m\u001b[0mimg_opencv_result_preproc\u001b[0m\u001b[1;33m)\u001b[0m\u001b[1;33m)\u001b[0m\u001b[1;33m,\u001b[0m\u001b[1;33m\u001b[0m\u001b[1;33m\u001b[0m\u001b[0m\n\u001b[0m\u001b[0;32m     16\u001b[0m                 \u001b[1;33m(\u001b[0m\u001b[1;36m50\u001b[0m\u001b[1;33m,\u001b[0m \u001b[1;36m50\u001b[0m\u001b[1;33m)\u001b[0m\u001b[1;33m,\u001b[0m\u001b[1;33m\u001b[0m\u001b[1;33m\u001b[0m\u001b[0m\n\u001b[0;32m     17\u001b[0m                 \u001b[0mfont\u001b[0m\u001b[1;33m,\u001b[0m \u001b[1;36m1\u001b[0m\u001b[1;33m,\u001b[0m\u001b[1;33m\u001b[0m\u001b[1;33m\u001b[0m\u001b[0m\n",
      "\u001b[1;31mAttributeError\u001b[0m: 'str' object has no attribute 'predict'"
     ]
    }
   ],
   "source": [
    "cap = cv2.VideoCapture(0)\n",
    "if not cap.isOpened():\n",
    "    print(\"tidak dapat buka camera\")\n",
    "    exit()\n",
    "\n",
    "while True:\n",
    "    ret, frame = cap.read()\n",
    "    font = cv2.FONT_HERSHEY_SIMPLEX\n",
    "    img_resize_opencv=resize(frame,(150,150,3))\n",
    "    \n",
    "    img_opencv_result_preproc=[img_resize_opencv.flatten()]\n",
    "        \n",
    "    cv2.putText(frame, \n",
    "                str(model_load.predict(img_opencv_result_preproc)), \n",
    "                (50, 50), \n",
    "                font, 1, \n",
    "                (0, 255, 255), \n",
    "                2, \n",
    "                cv2.LINE_4)\n",
    "    if not ret:\n",
    "        break\n",
    "    gray = cv2.cvtColor(frame, cv2.COLOR_BGR2GRAY)\n",
    "    cv2.imshow('frame', gray)\n",
    "    if cv2.waitKey(1) == ord('q'):\n",
    "        break\n",
    "# When everything done, release the capture\n",
    "cap.release()\n",
    "cv2.destroyAllWindows()"
   ]
  },
  {
   "cell_type": "code",
   "execution_count": null,
   "id": "f09d6fa2-6986-458f-8eef-8606176218cb",
   "metadata": {},
   "outputs": [],
   "source": []
  }
 ],
 "metadata": {
  "kernelspec": {
   "display_name": "Python 3 (ipykernel)",
   "language": "python",
   "name": "python3"
  },
  "language_info": {
   "codemirror_mode": {
    "name": "ipython",
    "version": 3
   },
   "file_extension": ".py",
   "mimetype": "text/x-python",
   "name": "python",
   "nbconvert_exporter": "python",
   "pygments_lexer": "ipython3",
   "version": "3.8.11"
  }
 },
 "nbformat": 4,
 "nbformat_minor": 5
}
